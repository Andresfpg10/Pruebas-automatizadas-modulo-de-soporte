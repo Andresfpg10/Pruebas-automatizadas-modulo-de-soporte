{
  "nbformat": 4,
  "nbformat_minor": 0,
  "metadata": {
    "colab": {
      "provenance": [],
      "name": "Metodologia-PageObject.ipynb"
    },
    "kernelspec": {
      "name": "python3",
      "display_name": "Python 3"
    },
    "language_info": {
      "name": "python"
    }
  },
  "cells": [
    {
      "cell_type": "code",
      "source": [
        "!pip install selenium"
      ],
      "metadata": {
        "id": "va8YZQxNZLuR",
        "outputId": "91737545-b449-4a64-9392-bcd02dad5793",
        "colab": {
          "base_uri": "https://localhost:8080/"
        }
      },
      "execution_count": 13,
      "outputs": [
        {
          "output_type": "stream",
          "name": "stdout",
          "text": [
            "Requirement already satisfied: selenium in /usr/local/lib/python3.10/dist-packages (4.27.1)\n",
            "Requirement already satisfied: urllib3<3,>=1.26 in /usr/local/lib/python3.10/dist-packages (from urllib3[socks]<3,>=1.26->selenium) (2.2.3)\n",
            "Requirement already satisfied: trio~=0.17 in /usr/local/lib/python3.10/dist-packages (from selenium) (0.28.0)\n",
            "Requirement already satisfied: trio-websocket~=0.9 in /usr/local/lib/python3.10/dist-packages (from selenium) (0.11.1)\n",
            "Requirement already satisfied: certifi>=2021.10.8 in /usr/local/lib/python3.10/dist-packages (from selenium) (2024.12.14)\n",
            "Requirement already satisfied: typing_extensions~=4.9 in /usr/local/lib/python3.10/dist-packages (from selenium) (4.12.2)\n",
            "Requirement already satisfied: websocket-client~=1.8 in /usr/local/lib/python3.10/dist-packages (from selenium) (1.8.0)\n",
            "Requirement already satisfied: attrs>=23.2.0 in /usr/local/lib/python3.10/dist-packages (from trio~=0.17->selenium) (24.3.0)\n",
            "Requirement already satisfied: sortedcontainers in /usr/local/lib/python3.10/dist-packages (from trio~=0.17->selenium) (2.4.0)\n",
            "Requirement already satisfied: idna in /usr/local/lib/python3.10/dist-packages (from trio~=0.17->selenium) (3.10)\n",
            "Requirement already satisfied: outcome in /usr/local/lib/python3.10/dist-packages (from trio~=0.17->selenium) (1.3.0.post0)\n",
            "Requirement already satisfied: sniffio>=1.3.0 in /usr/local/lib/python3.10/dist-packages (from trio~=0.17->selenium) (1.3.1)\n",
            "Requirement already satisfied: exceptiongroup in /usr/local/lib/python3.10/dist-packages (from trio~=0.17->selenium) (1.2.2)\n",
            "Requirement already satisfied: wsproto>=0.14 in /usr/local/lib/python3.10/dist-packages (from trio-websocket~=0.9->selenium) (1.2.0)\n",
            "Requirement already satisfied: pysocks!=1.5.7,<2.0,>=1.5.6 in /usr/local/lib/python3.10/dist-packages (from urllib3[socks]<3,>=1.26->selenium) (1.7.1)\n",
            "Requirement already satisfied: h11<1,>=0.9.0 in /usr/local/lib/python3.10/dist-packages (from wsproto>=0.14->trio-websocket~=0.9->selenium) (0.14.0)\n"
          ]
        }
      ]
    },
    {
      "cell_type": "markdown",
      "source": [
        "Inicio de sesión (login)"
      ],
      "metadata": {
        "id": "aYG-L6vDZjKN"
      }
    },
    {
      "cell_type": "code",
      "source": [
        "from selenium.webdriver.common.by import By\n",
        "from selenium.webdriver.support import expected_conditions as EC\n",
        "from selenium.webdriver.support.ui import WebDriverWait\n",
        "\n",
        "class LoginPage:\n",
        "    def __init__(self, driver):\n",
        "        self.driver = driver\n",
        "\n",
        "    def enter_email(self, email):\n",
        "        email_field = WebDriverWait(self.driver, 10).until(\n",
        "            EC.presence_of_element_located((By.ID, \"email\"))\n",
        "        )\n",
        "        email_field.send_keys(email)\n",
        "\n",
        "    def enter_password(self, password):\n",
        "        password_field = WebDriverWait(self.driver, 10).until(\n",
        "            EC.presence_of_element_located((By.ID, \"password\"))\n",
        "        )\n",
        "        password_field.send_keys(password)\n",
        "\n",
        "    def click_login_button(self):\n",
        "        login_button = WebDriverWait(self.driver, 10).until(\n",
        "            EC.element_to_be_clickable((By.CSS_SELECTOR, \".btn\"))\n",
        "        )\n",
        "        login_button.click()"
      ],
      "metadata": {
        "id": "8VcVCJcQZZly"
      },
      "execution_count": 4,
      "outputs": []
    },
    {
      "cell_type": "markdown",
      "source": [
        "Buscar un soporte desde la barra de busqueda"
      ],
      "metadata": {
        "id": "Mt3SzPTYZlef"
      }
    },
    {
      "cell_type": "code",
      "source": [
        "import pytest\n",
        "from selenium import webdriver\n",
        "\n",
        "@pytest.fixture\n",
        "def browser():\n",
        "    driver = webdriver.Chrome()\n",
        "    yield driver\n",
        "    driver.quit()\n",
        "\n",
        "class SoportePage:\n",
        "    def __init__(self, driver):\n",
        "        self.driver = driver\n",
        "\n",
        "    def go_to_soportes_page(self):\n",
        "        self.driver.get(\"https://v2.psicoalianza.com/soportes\")\n",
        "\n",
        "def test_buscar_soporte_con_page_object(browser):\n",
        "    soporte_page = SoportePage(browser)"
      ],
      "metadata": {
        "id": "4nR4lKmaX0dF"
      },
      "execution_count": 14,
      "outputs": []
    },
    {
      "cell_type": "markdown",
      "source": [
        "Funcionalidad del filtro (mostrar columnas)"
      ],
      "metadata": {
        "id": "npLwuTE9Z0tP"
      }
    },
    {
      "cell_type": "code",
      "source": [
        "@pytest.fixture\n",
        "def browser():\n",
        "    driver = webdriver.Chrome()\n",
        "    yield driver\n",
        "    driver.quit()\n",
        "\n",
        "def test_filter_columns_functionality(browser):\n",
        "    soporte_page = SoportePage(browser)\n",
        "\n",
        "    soporte_page.go_to_soportes_page()\n",
        "\n",
        "    soporte_page.click_soporte_link()\n",
        "\n",
        "    soporte_page.select_filter_options(...)\n",
        "    soporte_page.click_filter_button()\n",
        "    soporte_page.verify_filtered_results(...)\n",
        "\n",
        "    soporte_page.sort_by_column(...)\n",
        "    soporte_page.click_filter_button()\n",
        "    soporte_page.verify_filtered_results(...)"
      ],
      "metadata": {
        "id": "kZdKHBhNZKTN"
      },
      "execution_count": 16,
      "outputs": []
    },
    {
      "cell_type": "markdown",
      "source": [
        "Filtros avanzados"
      ],
      "metadata": {
        "id": "LbyAPkSfbCQI"
      }
    },
    {
      "cell_type": "code",
      "source": [
        "from selenium import webdriver\n",
        "from selenium.webdriver.common.by import By\n",
        "from selenium.webdriver.common.action_chains import ActionChains\n",
        "from selenium.webdriver.support.ui import WebDriverWait\n",
        "from selenium.webdriver.support import expected_conditions as EC\n",
        "from selenium.webdriver.common.keys import Keys\n",
        "\n",
        "class TestFiltrosAvanzados:\n",
        "  def setup_method(self, method):\n",
        "    self.driver = webdriver.Chrome()\n",
        "    self.driver.implicitly_wait(10)\n",
        "\n",
        "  def teardown_method(self, method):\n",
        "    self.driver.quit()\n",
        "\n",
        "  def test_filtros_avanzados(self):\n",
        "    self.driver.get(\"https://v2.psicoalianza.com/inicio\")\n",
        "    self.driver.set_window_size(1365, 718)\n",
        "\n",
        "    self.driver.find_element(By.CSS_SELECTOR, \".btn:nth-child(2) > .text-white\").click()\n",
        "\n",
        "    def select_filter_option(self, filter_id, option_value):\n",
        "      select_element = WebDriverWait(self.driver, 10).until(\n",
        "          EC.presence_of_element_located((By.ID, f\"select2-{filter_id}-container\"))\n",
        "      )\n",
        "      select_element.click()\n",
        "      WebDriverWait(self.driver, 10).until(\n",
        "          EC.element_to_be_clickable((By.XPATH, f\"//option[text()='{option_value}']\"))\n",
        "      ).click()\n",
        "\n",
        "    def click_filter_button(self):\n",
        "      self.driver.find_element(By.CSS_SELECTOR, \".bi-filter\").click()\n",
        "\n",
        "    filters = [\n",
        "      {\"tipo_prueba\": \"Evaluación psicológica\"},\n",
        "      {\"categoria\": \"Adolescentes\"},\n",
        "      {\"origen\": \"Cliente\"},\n",
        "      {\"tipo_mensaje\": \"Cita de valoración\"},\n",
        "      {\"estado\": \"Sin resolver\"},\n",
        "      {\"prioridad\": \"Media\"},\n",
        "    ]\n",
        "    for filter in filters:\n",
        "      for filter_name, option_value in filter.items():\n",
        "        select_filter_option(self, filter_name + \"_id\", option_value)\n",
        "      click_filter_button()"
      ],
      "metadata": {
        "id": "OKGl0SKebPyO"
      },
      "execution_count": 17,
      "outputs": []
    },
    {
      "cell_type": "markdown",
      "source": [
        "Filtro numero de registros"
      ],
      "metadata": {
        "id": "cvMPcYm-bhCW"
      }
    },
    {
      "cell_type": "code",
      "source": [
        "import pytest\n",
        "from selenium import webdriver\n",
        "from selenium.webdriver.common.by import By\n",
        "from selenium.webdriver.common.action_chains import ActionChains\n",
        "from selenium.webdriver.support.ui import WebDriverWait\n",
        "from selenium.webdriver.support import expected_conditions as EC\n",
        "from selenium.webdriver.common.keys import Keys\n",
        "\n",
        "\n",
        "class TestFiltronmeroderegistros:\n",
        "  def setup_method(self, method):\n",
        "    self.driver = webdriver.Chrome()\n",
        "    self.driver.implicitly_wait(10)\n",
        "\n",
        "  def teardown_method(self, method):\n",
        "    self.driver.quit()\n",
        "\n",
        "  def test_filtronmeroderegistros(self):\n",
        "    self.driver.get(\"https://v2.psicoalianza.com/inicio\")\n",
        "    self.driver.set_window_size(1365, 718)\n",
        "\n",
        "    self.driver.find_element(By.CSS_SELECTOR, \".btn:nth-child(2) > .text-white\").click()\n",
        "\n",
        "    last_page_button = WebDriverWait(self.driver, 10).until(\n",
        "        EC.element_to_be_clickable((By.CSS_SELECTOR, \".dt-paging-button:nth-child(5)\"))\n",
        "    )\n",
        "    last_page_button.click()\n",
        "\n",
        "    third_page_button = self.driver.find_element(By.CSS_SELECTOR, \".dt-paging-button:nth-child(3)\")\n",
        "    actions = ActionChains(self.driver)\n",
        "    actions.move_to_element(third_page_button).perform()\n",
        "    WebDriverWait(self.driver, 10).until(\n",
        "        EC.element_to_be_clickable(third_page_button)\n",
        "    ).click()"
      ],
      "metadata": {
        "id": "u64_04qubkx9"
      },
      "execution_count": 21,
      "outputs": []
    },
    {
      "cell_type": "markdown",
      "source": [
        "Exportar sección"
      ],
      "metadata": {
        "id": "soCcU7k_bzO_"
      }
    },
    {
      "cell_type": "code",
      "source": [
        "import pytest\n",
        "from selenium import webdriver\n",
        "from selenium.webdriver.common.by import By\n",
        "from selenium.webdriver.support.ui import WebDriverWait\n",
        "from selenium.webdriver.support import expected_conditions as EC\n",
        "\n",
        "\n",
        "class TestExportarseccin:\n",
        "  def setup_method(self, method):\n",
        "    self.driver = webdriver.Chrome()\n",
        "    self.driver.implicitly_wait(10)\n",
        "\n",
        "  def teardown_method(self, method):\n",
        "    self.driver.quit()\n",
        "\n",
        "  def test_exportarseccin(self):\n",
        "    self.driver.get(\"https://v2.psicoalianza.com/inicio\")\n",
        "    self.driver.set_window_size(1365, 718)\n",
        "\n",
        "    self.driver.find_element(By.CSS_SELECTOR, \".btn:nth-child(2) > .text-white\").click()\n",
        "\n",
        "    export_button = WebDriverWait(self.driver, 10).until(\n",
        "        EC.element_to_be_clickable((By.CSS_SELECTOR, \".col-auto:nth-child(2) > .btn\"))\n",
        "    )\n",
        "    export_button.click()"
      ],
      "metadata": {
        "id": "9HMqZOeYb2hj"
      },
      "execution_count": 22,
      "outputs": []
    },
    {
      "cell_type": "markdown",
      "source": [
        "Crear soporte empresa Psico (sencillo)"
      ],
      "metadata": {
        "id": "ZiFh6gUob-3E"
      }
    },
    {
      "cell_type": "code",
      "source": [
        "import pytest\n",
        "from selenium import webdriver\n",
        "from selenium.webdriver.common.by import By\n",
        "from selenium.webdriver.common.action_chains import ActionChains\n",
        "from selenium.webdriver.support.ui import WebDriverWait\n",
        "from selenium.webdriver.support import expected_conditions as EC\n",
        "from selenium.webdriver.common.keys import Keys\n",
        "from selenium.webdriver.common.desired_capabilities import DesiredCapabilities\n",
        "\n",
        "\n",
        "class TestCrearsoporteempresaPsicosencillo:\n",
        "  def setup_method(self, method):\n",
        "    self.driver = webdriver.Chrome()\n",
        "    self.driver.implicitly_wait(10)\n",
        "\n",
        "  def teardown_method(self, method):\n",
        "    self.driver.quit()\n",
        "\n",
        "  def test_crearsoporteempresaPsicosencillo(self):\n",
        "    self.driver.get(\"https://v2.psicoalianza.com/inicio\")\n",
        "    self.driver.set_window_size(1365, 718)\n",
        "\n",
        "    self.driver.find_element(By.LINK_TEXT, \"Soporte\").click()\n",
        "\n",
        "    create_psicological_support_button = WebDriverWait(self.driver, 10).until(\n",
        "        EC.element_to_be_clickable((By.CSS_SELECTOR, \".ps-lg-0 > .btn\"))\n",
        "    )\n",
        "    create_psicological_support_button.click()\n",
        "\n",
        "    self.driver.find_element(By.ID, \"select2-empresa_id-container\").click()\n",
        "    self.driver.find_element(By.CSS_SELECTOR, \".select2-search__field\").send_keys(\"psi\")\n",
        "    self.driver.find_element(By.CSS_SELECTOR, \".select2-search__field\").send_keys(Keys.ENTER)\n",
        "    self.driver.find_element(By.ID, \"telefono_usuario\").click()\n",
        "    self.driver.find_element(By.ID, \"telefono_usuario\").send_keys(\"2222\")\n",
        "\n",
        "    self.driver.find_element(By.ID, \"select2-tipo_prueba_id-container\").click()\n",
        "    self.driver.find_element(By.ID, \"select2-categoria_id-container\").click()\n",
        "    self.driver.find_element(By.ID, \"select2-origen_id-container\").click()\n",
        "\n",
        "    text_editor = WebDriverWait(self.driver, 10).until(\n",
        "        EC.element_to_be_clickable((By.CSS_SELECTOR, \".ck-content\"))\n",
        "    )\n",
        "    text_editor.click()\n",
        "\n",
        "    self.driver.execute_script(\n",
        "        \"if(arguments[0].contentEditable === 'true') {arguments[0].innerText = '<p>Prueba #9</p>'}\",\n",
        "        text_editor,\n",
        "    )\n",
        "\n",
        "    create_button = WebDriverWait(self.driver, 10).until(\n",
        "        EC.element_to_be_clickable((By.CSS_SELECTOR, \".ps-1 > .w-100\"))\n",
        "    )\n",
        "    create_button.click()"
      ],
      "metadata": {
        "id": "y24m5yS0b60D"
      },
      "execution_count": 23,
      "outputs": []
    },
    {
      "cell_type": "markdown",
      "source": [
        "Crear soporte para empresa Psico"
      ],
      "metadata": {
        "id": "jmhY-5J3ckkB"
      }
    },
    {
      "cell_type": "code",
      "source": [
        "class LandingPage:\n",
        "  def __init__(self, driver):\n",
        "    self.driver = driver\n",
        "\n",
        "  def click_support_button(self):\n",
        "    self.driver.find_element(By.CSS_SELECTOR, \".btn:nth-child(2) > .text-white\").click()\n",
        "\n",
        "class SupportPage:\n",
        "  def __init__(self, driver):\n",
        "    self.driver = driver\n",
        "\n",
        "  _create_request_button = (By.CSS_SELECTOR, \".ps-lg-0 > .btn\")\n",
        "  _company_dropdown = (By.ID, \"select2-empresa_id-container\")\n",
        "  _company_search_field = (By.CSS_SELECTOR, \".select2-search__field\")\n",
        "  _company_options = (By.CSS_SELECTOR, \".select2-results__option\")\n",
        "\n",
        "\n",
        "  def click_create_request_button(self):\n",
        "    self.driver.find_element(*self._create_request_button).click()\n",
        "\n",
        "  def select_company(self, company_name):\n",
        "    self.driver.find_element(*self._company_dropdown).click()\n",
        "    self.driver.find_element(*self._company_search_field).send_keys(company_name)\n",
        "    wait = WebDriverWait(self.driver, 10)\n",
        "    company_options = wait.until(expected_conditions.presence_of_all_elements_located(self._company_options))\n",
        "    for option in company_options:\n",
        "      if option.text == company_name:\n",
        "        option.click()\n",
        "        break\n",
        "\n",
        "  def fill_user_details(self, phone_number):\n",
        "    self.driver.find_element(By.ID, \"telefono_usuario\").send_keys(phone_number)\n",
        "\n",
        "  def set_test_description(self, description):\n",
        "    element = self.driver.find_element(By.CSS_SELECTOR, \".ck > p\")\n",
        "    self.driver.execute_script(\"if(arguments[0].contentEditable === 'true') {arguments[0].innerText = arguments[1]}\", element, description)\n",
        "\n",
        "  def submit_request(self):\n",
        "    self.driver.find_element(By.CSS_SELECTOR, \"#formulario\").click()\n",
        "\n",
        "    def test_create_support_request(self):\n",
        "      driver = webdriver.Chrome()\n",
        "      landing_page = LandingPage(driver)\n",
        "      landing_page.click_support_button()\n",
        "\n",
        "      support_page = SupportPage(driver)\n",
        "      support_page.click_create_request_button()\n",
        "      support_page.select_company(\"PSI\")\n",
        "\n",
        "      support_page.submit_request()\n",
        "      driver.quit()"
      ],
      "metadata": {
        "id": "RObnVia5cjp2"
      },
      "execution_count": 25,
      "outputs": []
    },
    {
      "cell_type": "markdown",
      "source": [
        "Crear soporte empresa O'Hara Ltd (sencillo)"
      ],
      "metadata": {
        "id": "A7D50tidcz8P"
      }
    },
    {
      "cell_type": "code",
      "source": [
        "from selenium import webdriver\n",
        "from selenium.webdriver.common.by import By\n",
        "from selenium.webdriver.support.ui import WebDriverWait\n",
        "from selenium.webdriver.support import expected_conditions as EC\n",
        "\n",
        "class LandingPage:\n",
        "    def __init__(self, driver):\n",
        "        self.driver = driver\n",
        "\n",
        "    def navigate_to_support(self):\n",
        "        self.driver.find_element(By.CSS_SELECTOR, \".bi-headset\").click()\n",
        "\n",
        "class SupportPage:\n",
        "    def __init__(self, driver):\n",
        "        self.driver = driver\n",
        "\n",
        "    _create_support_button = (By.CSS_SELECTOR, \".ps-lg-0 > .btn\")\n",
        "    _company_dropdown = (By.ID, \"select2-empresa_id-container\")\n",
        "    _company_search_field = (By.CSS_SELECTOR, \".select2-search__field\")\n",
        "    _company_option = (By.CSS_SELECTOR, \".select2-results__option\")\n",
        "\n",
        "    def click_create_support_button(self):\n",
        "        self.driver.find_element(*self._create_support_button).click()\n",
        "\n",
        "    def select_company(self, company_name):\n",
        "        # Abre el desplegable de compañías\n",
        "        company_dropdown = self.driver.find_element(*self._company_dropdown)\n",
        "        company_dropdown.click()\n",
        "\n",
        "        # Escribe el nombre de la compañía en el campo de búsqueda\n",
        "        search_field = self.driver.find_element(*self._company_search_field)\n",
        "        search_field.send_keys(company_name)\n",
        "\n",
        "        # Espera a que la opción de la compañía aparezca y luego la selecciona\n",
        "        wait = WebDriverWait(self.driver, 10)\n",
        "        company_option = wait.until(\n",
        "            EC.element_to_be_clickable((By.CSS_SELECTOR, f\"{self._company_option}[data-select2-id*='{company_name}']\"))\n",
        "        )\n",
        "        company_option.click()\n",
        "\n",
        "def test_crearsoporteempresaOHaraLtdsencillo(self):\n",
        "    driver = webdriver.Chrome()\n",
        "    landing_page = LandingPage(driver)\n",
        "    landing_page.navigate_to_support()\n",
        "\n",
        "    support_page = SupportPage(driver)\n",
        "    support_page.click_create_support_button()\n",
        "    support_page.select_company(\"O'Hara Ltd\")\n",
        "\n",
        "    self.driver.get(\"https://v2.psicoalianza.com/inicio\")\n",
        "    self.driver.set_window_size(1365, 718)\n",
        "    self.driver.find_element(By.CSS_SELECTOR, \".bi-headset\").click()\n",
        "    self.driver.find_element(By.CSS_SELECTOR, \".ps-lg-0 > .btn\").click()\n",
        "    self.driver.find_element(By.ID, \"select2-empresa_id-container\").click()\n",
        "    self.driver.find_element(By.CSS_SELECTOR, \".select2-search__field\").send_keys(\"O\\'Hara Ltd\")\n",
        "    self.driver.find_element(By.CSS_SELECTOR, \".fa\").click()\n",
        "    self.driver.find_element(By.CSS_SELECTOR, \"#modal-usuarios .modal-header .bi\").click()\n",
        "    self.driver.find_element(By.ID, \"telefono_usuario\").click()\n",
        "    self.driver.find_element(By.ID, \"telefono_usuario\").send_keys(\"6666666\")\n",
        "    self.driver.find_element(By.ID, \"select2-tipo_prueba_id-container\").click()\n",
        "    self.driver.find_element(By.ID, \"select2-categoria_id-container\").click()\n",
        "    self.driver.find_element(By.ID, \"select2-origen_id-container\").click()\n",
        "    self.driver.find_element(By.CSS_SELECTOR, \".ck-content\").click()\n",
        "    element = self.driver.find_element(By.CSS_SELECTOR, \".ck-content\")\n",
        "    self.driver.execute_script(\"if(arguments[0].contentEditable === 'true') {arguments[0].innerText = '<p>Prueba#11</p>'}\", element)\n",
        "    self.driver.find_element(By.CSS_SELECTOR, \".ps-1 > .w-100\").click()\n",
        "\n",
        "    driver.quit()"
      ],
      "metadata": {
        "id": "W6OlXod1czmA"
      },
      "execution_count": 28,
      "outputs": []
    },
    {
      "cell_type": "markdown",
      "source": [
        "Crear soporte empresa Hahn Group (sencillo)"
      ],
      "metadata": {
        "id": "kmocvVSbdFFa"
      }
    },
    {
      "cell_type": "code",
      "source": [
        "from selenium import webdriver\n",
        "from selenium.webdriver.common.by import By\n",
        "from selenium.webdriver.support.ui import WebDriverWait\n",
        "from selenium.webdriver.support import expected_conditions as EC\n",
        "from selenium.webdriver.common.action_chains import ActionChains\n",
        "\n",
        "\n",
        "class LandingPage:\n",
        "    def __init__(self, driver):\n",
        "        self.driver = driver\n",
        "\n",
        "    def navigate_to_support(self):\n",
        "        support_link = self.driver.find_element(By.LINK_TEXT, \"Soporte\")\n",
        "        support_link.click()\n",
        "\n",
        "\n",
        "class SupportPage:\n",
        "    def __init__(self, driver):\n",
        "        self.driver = driver\n",
        "\n",
        "    _create_support_button = (By.CSS_SELECTOR, \".ps-lg-0 > .btn\")\n",
        "    _company_dropdown = (By.ID, \"select2-empresa_id-container\")\n",
        "    _company_search_field = (By.CSS_SELECTOR, \".select2-search__field\")\n",
        "    _company_option = (By.CSS_SELECTOR, \".select2-results__option\")\n",
        "    _phone_number_field = (By.ID, \"telefono_usuario\")\n",
        "    _description_editor = (By.CSS_SELECTOR, \".ck-content\")\n",
        "    _submit_button = (By.CSS_SELECTOR, \".ps-1 > .w-100\")\n",
        "\n",
        "    def click_create_support_button(self):\n",
        "        self.driver.find_element(*self._create_support_button).click()\n",
        "\n",
        "    def select_company(self, company_name):\n",
        "        company_dropdown = self.driver.find_element(*self._company_dropdown)\n",
        "        company_dropdown.click()\n",
        "\n",
        "        search_field = self.driver.find_element(*self._company_search_field)\n",
        "        search_field.send_keys(company_name)\n",
        "\n",
        "        wait = WebDriverWait(self.driver, 10)\n",
        "        company_option = wait.until(\n",
        "            EC.element_to_be_clickable((By.CSS_SELECTOR, f\"{self._company_option}[data-select2-id*='{company_name}']\"))\n",
        "        )\n",
        "        company_option.click()\n",
        "\n",
        "    def enter_phone_number(self, phone_number):\n",
        "        phone_number_field = self.driver.find_element(*self._phone_number_field)\n",
        "        phone_number_field.send_keys(phone_number)\n",
        "\n",
        "    def enter_description(self, description):\n",
        "        description_editor = self.driver.find_element(*self._description_editor)\n",
        "        self.driver.execute_script(\n",
        "            \"if(arguments[0].contentEditable === 'true') {arguments[0].innerText = '<p>\"\n",
        "            + description\n",
        "            + \"</p>'}\",\n",
        "            description_editor,\n",
        "        )\n",
        "\n",
        "    def submit_request(self):\n",
        "        submit_button = self.driver.find_element(*self._submit_button)\n",
        "        submit_button.click()\n",
        "\n",
        "def test_crearsoporteempresaHahnGroupsencillo(self):\n",
        "    driver = webdriver.Chrome()\n",
        "    landing_page = LandingPage(driver)\n",
        "    landing_page.navigate_to_support()\n",
        "\n",
        "    support_page = SupportPage(driver)\n",
        "    support_page.click_create_support_button()\n",
        "    support_page.select_company(\"Hahn Group\")\n",
        "    support_page.enter_phone_number(\"5555\")\n",
        "    support_page.enter_description(\"Prueba#11\")\n",
        "    support_page.submit_request()\n",
        "\n",
        "    driver.quit()"
      ],
      "metadata": {
        "id": "Sb7op5gBdJ4g"
      },
      "execution_count": 29,
      "outputs": []
    },
    {
      "cell_type": "markdown",
      "source": [
        "Crear soporte empresa Hahn Group"
      ],
      "metadata": {
        "id": "QQUb3oyLdTpN"
      }
    },
    {
      "cell_type": "code",
      "source": [
        "from selenium import webdriver\n",
        "from selenium.webdriver.common.by import By\n",
        "from selenium.webdriver.support.ui import WebDriverWait\n",
        "from selenium.webdriver.support import expected_conditions as EC\n",
        "from selenium.webdriver.common.action_chains import ActionChains\n",
        "\n",
        "\n",
        "class LandingPage:\n",
        "    def __init__(self, driver):\n",
        "        self.driver = driver\n",
        "\n",
        "    def navigate_to_support(self):\n",
        "        support_link = self.driver.find_element(By.LINK_TEXT, \"Soporte\")\n",
        "        support_link.click()\n",
        "\n",
        "\n",
        "class SupportPage:\n",
        "    def __init__(self, driver):\n",
        "        self.driver = driver\n",
        "\n",
        "    _create_support_button = (By.CSS_SELECTOR, \".ps-lg-0 > .btn\")\n",
        "    _company_dropdown = (By.ID, \"select2-empresa_id-container\")\n",
        "    _company_search_field = (By.CSS_SELECTOR, \".select2-search__field\")\n",
        "    _company_option = (By.CSS_SELECTOR, \".select2-results__option\")\n",
        "    _phone_number_field = (By.ID, \"telefono_usuario\")\n",
        "    _description_editor = (By.CSS_SELECTOR, \".ck-content\")\n",
        "    _submit_button = (By.CSS_SELECTOR, \".ps-1 > .w-100\")\n",
        "    _attach_file_button = (By.CSS_SELECTOR, \".ck-file-dialog-button .ck-icon\")\n",
        "\n",
        "    def click_create_support_button(self):\n",
        "        self.driver.find_element(*self._create_support_button).click()\n",
        "\n",
        "    def select_company(self, company_name):\n",
        "        company_dropdown = self.driver.find_element(*self._company_dropdown)\n",
        "        company_dropdown.click()\n",
        "\n",
        "        search_field = self.driver.find_element(*self._company_search_field)\n",
        "        search_field.send_keys(company_name)\n",
        "\n",
        "        wait = WebDriverWait(self.driver, 10)\n",
        "        company_option = wait.until(\n",
        "            EC.element_to_be_clickable((By.CSS_SELECTOR, f\"{self._company_option}[data-select2-id*='{company_name}']\"))\n",
        "        )\n",
        "        company_option.click()\n",
        "\n",
        "    def enter_phone_number(self, phone_number):\n",
        "        phone_number_field = self.driver.find_element(*self._phone_number_field)\n",
        "        phone_number_field.send_keys(phone_number)\n",
        "\n",
        "    def enter_description(self, description):\n",
        "        description_editor = self.driver.find_element(*self._description_editor)\n",
        "        self.driver.execute_script(\n",
        "            \"if(arguments[0].contentEditable === 'true') {arguments[0].innerText = '<p>\"\n",
        "            + description\n",
        "            + \"</p>'}\",\n",
        "            description_editor,\n",
        "        )\n",
        "\n",
        "    def submit_request(self):\n",
        "        submit_button = self.driver.find_element(*self._submit_button)\n",
        "        submit_button.click()\n",
        "\n",
        "    def attach_file(self):\n",
        "        attach_file_button = self.driver.find_element(*self._attach_file_button)\n",
        "        attach_file_button.click()\n",
        "\n",
        "def test_crearsoporteempresaHahnGroup(self):\n",
        "    driver = webdriver.Chrome()\n",
        "    landing_page = LandingPage(driver)\n",
        "    landing_page.navigate_to_support()\n",
        "\n",
        "    support_page = SupportPage(driver)\n",
        "    support_page.click_create_support_button()\n",
        "    support_page.select_company(\"Hahn Group\")\n",
        "    support_page.enter_phone_number(\"314636667AAA\")\n",
        "    support_page.enter_description(\"Prueba #6\")\n",
        "    support_page.submit_request()\n",
        "\n",
        "    driver.quit()"
      ],
      "metadata": {
        "id": "La56N16ZdTKG"
      },
      "execution_count": 30,
      "outputs": []
    },
    {
      "cell_type": "markdown",
      "source": [
        "Cerrar sesión"
      ],
      "metadata": {
        "id": "zwvSdQQLdnnX"
      }
    },
    {
      "cell_type": "code",
      "source": [
        "from selenium import webdriver\n",
        "from selenium.webdriver.common.by import By\n",
        "\n",
        "class LoginPage:\n",
        "    def __init__(self, driver):\n",
        "        self.driver = driver\n",
        "\n",
        "    _user_icon = (By.ID, \"imagen-usuario\")\n",
        "\n",
        "    def click_user_icon(self):\n",
        "        user_icon = self.driver.find_element(*self._user_icon)\n",
        "        user_icon.click()\n",
        "\n",
        "class UserMenuPage:\n",
        "    def __init__(self, driver):\n",
        "        self.driver = driver\n",
        "\n",
        "    _close_session_link = (By.LINK_TEXT, \"Cerrar sesión\")\n",
        "\n",
        "    def click_close_session(self):\n",
        "        close_session_link = self.driver.find_element(*self._close_session_link)\n",
        "        close_session_link.click()\n",
        "\n",
        "def test_cerrarsesin(self):\n",
        "    driver = webdriver.Chrome()\n",
        "    login_page = LoginPage(driver)\n",
        "    login_page.driver.get(\"https://v2.psicoalianza.com/inicio\")\n",
        "    login_page.driver.set_window_size(1365, 718)\n",
        "\n",
        "    login_page.click_user_icon()\n",
        "\n",
        "    user_menu_page = UserMenuPage(driver)\n",
        "    user_menu_page.click_close_session()\n",
        "\n",
        "    driver.quit()"
      ],
      "metadata": {
        "id": "rLmPzasWdoyb"
      },
      "execution_count": 31,
      "outputs": []
    }
  ]
}